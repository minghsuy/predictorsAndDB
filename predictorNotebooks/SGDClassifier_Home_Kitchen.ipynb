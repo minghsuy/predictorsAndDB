{
 "metadata": {
  "name": ""
 },
 "nbformat": 3,
 "nbformat_minor": 0,
 "worksheets": [
  {
   "cells": [
    {
     "cell_type": "code",
     "collapsed": false,
     "input": [
      "import cPickle\n",
      "from scipy.io import loadmat\n",
      "from sklearn.linear_model import SGDClassifier\n",
      "from sklearn.cross_validation import StratifiedKFold, train_test_split\n",
      "from sklearn.metrics import confusion_matrix\n",
      "from sklearn.grid_search import GridSearchCV"
     ],
     "language": "python",
     "metadata": {},
     "outputs": [],
     "prompt_number": 1
    },
    {
     "cell_type": "markdown",
     "metadata": {},
     "source": [
      "Load processed data"
     ]
    },
    {
     "cell_type": "code",
     "collapsed": false,
     "input": [
      "productCategory='Home_Kitchen'\n",
      "tfIdfArr=loadmat('/home/hencrice/Downloads/AsterixDBClassData/processedData/TfIdf_{0}.mat'.format(productCategory))['data']\n",
      "scores=load('/home/hencrice/Downloads/AsterixDBClassData/processedData/score_{0}.npy'.format(productCategory))\n",
      "scores.shape"
     ],
     "language": "python",
     "metadata": {},
     "outputs": [
      {
       "metadata": {},
       "output_type": "pyout",
       "prompt_number": 2,
       "text": [
        "(100000,)"
       ]
      }
     ],
     "prompt_number": 2
    },
    {
     "cell_type": "markdown",
     "metadata": {},
     "source": [
      "Split data into training+validation (used gridSearch to pick hyper-parameters), and test set (evaluate model performance)"
     ]
    },
    {
     "cell_type": "code",
     "collapsed": false,
     "input": [
      "tfIdfArr_trVaSet, tfIdfArr_teSet, scores_trVaSet, scores_teSet = train_test_split(tfIdfArr, scores, test_size=0.1)"
     ],
     "language": "python",
     "metadata": {},
     "outputs": [],
     "prompt_number": 3
    },
    {
     "cell_type": "code",
     "collapsed": false,
     "input": [
      "hist(scores_teSet)"
     ],
     "language": "python",
     "metadata": {},
     "outputs": [
      {
       "metadata": {},
       "output_type": "pyout",
       "prompt_number": 4,
       "text": [
        "(array([ 1926.,     0.,  1993.,     0.,     0.,  2002.,     0.,  2071.,\n",
        "           0.,  2008.]),\n",
        " array([ 1. ,  1.4,  1.8,  2.2,  2.6,  3. ,  3.4,  3.8,  4.2,  4.6,  5. ]),\n",
        " <a list of 10 Patch objects>)"
       ]
      },
      {
       "metadata": {},
       "output_type": "display_data",
       "png": "[encoded data removed]",
       "text": [
        "<matplotlib.figure.Figure at 0x3c8d250>"
       ]
      }
     ],
     "prompt_number": 4
    },
    {
     "cell_type": "markdown",
     "metadata": {},
     "source": [
      "Pick hyper-parameters for SGDClassifier using grid search:"
     ]
    },
    {
     "cell_type": "code",
     "collapsed": false,
     "input": [
      "hyperParam={'n_iter':range(5, 20, 5),\n",
      "            # strength of regularization\n",
      "            'alpha': logspace(-5, -3, 10)\n",
      "            }\n",
      "clf = GridSearchCV(SGDClassifier(loss='log', class_weight={1:0.45, 2:0.35, 3:0.05, 4:0.1, 5:0.25}), hyperParam, n_jobs=8, verbose=1)\n",
      "clf.fit(tfIdfArr_trVaSet, scores_trVaSet)\n",
      "bestClf=clf.best_estimator_\n",
      "clf.best_params_"
     ],
     "language": "python",
     "metadata": {},
     "outputs": [
      {
       "output_type": "stream",
       "stream": "stdout",
       "text": [
        "Fitting 3 folds for each of 30 candidates, totalling 90 fits\n"
       ]
      },
      {
       "output_type": "stream",
       "stream": "stderr",
       "text": [
        "[Parallel(n_jobs=8)]: Done   1 jobs       | elapsed:    5.5s\n",
        "[Parallel(n_jobs=8)]: Done  50 jobs       | elapsed:  1.5min\n",
        "[Parallel(n_jobs=8)]: Done  76 out of  90 | elapsed:  2.2min remaining:   24.4s\n",
        "[Parallel(n_jobs=8)]: Done  90 out of  90 | elapsed:  2.5min finished\n"
       ]
      },
      {
       "metadata": {},
       "output_type": "pyout",
       "prompt_number": 4,
       "text": [
        "{'alpha': 1.0000000000000001e-05, 'n_iter': 15}"
       ]
      }
     ],
     "prompt_number": 4
    },
    {
     "cell_type": "markdown",
     "metadata": {},
     "source": [
      "Prediction accuracy of each class:"
     ]
    },
    {
     "cell_type": "code",
     "collapsed": false,
     "input": [
      "te_cm=confusion_matrix(scores_teSet, bestClf.predict(tfIdfArr_teSet))\n",
      "te_cm.diagonal()/sum(te_cm,1,dtype=float32)"
     ],
     "language": "python",
     "metadata": {},
     "outputs": [
      {
       "metadata": {},
       "output_type": "pyout",
       "prompt_number": 5,
       "text": [
        "array([ 0.86683805,  0.6226606 ,  0.0014881 ,  0.28989899,  0.87848223])"
       ]
      }
     ],
     "prompt_number": 5
    },
    {
     "cell_type": "markdown",
     "metadata": {},
     "source": [
      "Save the resulting model:"
     ]
    },
    {
     "cell_type": "code",
     "collapsed": false,
     "input": [
      "with open('/home/hencrice/Downloads/AsterixDBClassData/models/clf_{0}.pkl'.format(productCategory),'wb') as fp:\n",
      "    cPickle.dump(bestClf, fp, -1)"
     ],
     "language": "python",
     "metadata": {},
     "outputs": [],
     "prompt_number": 6
    }
   ],
   "metadata": {}
  }
 ]
}