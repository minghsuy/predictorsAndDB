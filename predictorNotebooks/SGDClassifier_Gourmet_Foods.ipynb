{
 "metadata": {
  "name": ""
 },
 "nbformat": 3,
 "nbformat_minor": 0,
 "worksheets": [
  {
   "cells": [
    {
     "cell_type": "code",
     "collapsed": false,
     "input": [
      "import cPickle\n",
      "from scipy.io import loadmat\n",
      "from sklearn.linear_model import SGDClassifier\n",
      "from sklearn.cross_validation import StratifiedKFold, train_test_split\n",
      "from sklearn.metrics import confusion_matrix\n",
      "from sklearn.grid_search import GridSearchCV"
     ],
     "language": "python",
     "metadata": {},
     "outputs": [],
     "prompt_number": 1
    },
    {
     "cell_type": "markdown",
     "metadata": {},
     "source": [
      "Load processed data"
     ]
    },
    {
     "cell_type": "code",
     "collapsed": false,
     "input": [
      "productCategory='Gourmet_Foods'\n",
      "tfIdfArr=loadmat('/home/hencrice/Downloads/AsterixDBClassData/processedData/TfIdf_{0}.mat'.format(productCategory))['data']\n",
      "scores=load('/home/hencrice/Downloads/AsterixDBClassData/processedData/score_{0}.npy'.format(productCategory))\n",
      "scores.shape"
     ],
     "language": "python",
     "metadata": {},
     "outputs": [
      {
       "metadata": {},
       "output_type": "pyout",
       "prompt_number": 2,
       "text": [
        "(57757,)"
       ]
      }
     ],
     "prompt_number": 2
    },
    {
     "cell_type": "markdown",
     "metadata": {},
     "source": [
      "Split data into training+validation (used gridSearch to pick hyper-parameters), and test set (evaluate model performance)"
     ]
    },
    {
     "cell_type": "code",
     "collapsed": false,
     "input": [
      "tfIdfArr_trVaSet, tfIdfArr_teSet, scores_trVaSet, scores_teSet = train_test_split(tfIdfArr, scores, test_size=0.1)"
     ],
     "language": "python",
     "metadata": {},
     "outputs": [],
     "prompt_number": 3
    },
    {
     "cell_type": "code",
     "collapsed": false,
     "input": [
      "hist(scores_teSet)"
     ],
     "language": "python",
     "metadata": {},
     "outputs": [
      {
       "metadata": {},
       "output_type": "pyout",
       "prompt_number": 4,
       "text": [
        "(array([ 1350.,     0.,   741.,     0.,     0.,  1033.,     0.,  1361.,\n",
        "           0.,  1291.]),\n",
        " array([ 1. ,  1.4,  1.8,  2.2,  2.6,  3. ,  3.4,  3.8,  4.2,  4.6,  5. ]),\n",
        " <a list of 10 Patch objects>)"
       ]
      },
      {
       "metadata": {},
       "output_type": "display_data",
       "png": "[encoded data removed]",
       "text": [
        "<matplotlib.figure.Figure at 0x3b97210>"
       ]
      }
     ],
     "prompt_number": 4
    },
    {
     "cell_type": "markdown",
     "metadata": {},
     "source": [
      "Pick hyper-parameters for SGDClassifier using grid search:"
     ]
    },
    {
     "cell_type": "code",
     "collapsed": false,
     "input": [
      "hyperParam={'n_iter':range(5, 20, 5),\n",
      "            # strength of regularization\n",
      "            'alpha': logspace(-5, -3, 10)\n",
      "            }\n",
      "clf = GridSearchCV(SGDClassifier(loss='log', class_weight={1:0.3, 2:0.6, 3:0.05, 4:0.1, 5:0.25}), hyperParam, n_jobs=8, verbose=1)\n",
      "clf.fit(tfIdfArr_trVaSet, scores_trVaSet)\n",
      "bestClf=clf.best_estimator_\n",
      "clf.best_params_"
     ],
     "language": "python",
     "metadata": {},
     "outputs": [
      {
       "output_type": "stream",
       "stream": "stdout",
       "text": [
        "Fitting 3 folds for each of 30 candidates, totalling 90 fits\n"
       ]
      },
      {
       "output_type": "stream",
       "stream": "stderr",
       "text": [
        "[Parallel(n_jobs=8)]: Done   1 jobs       | elapsed:    2.0s\n",
        "[Parallel(n_jobs=8)]: Done  50 jobs       | elapsed:   27.7s\n",
        "[Parallel(n_jobs=8)]: Done  76 out of  90 | elapsed:   40.3s remaining:    7.4s\n",
        "[Parallel(n_jobs=8)]: Done  90 out of  90 | elapsed:   46.1s finished\n"
       ]
      },
      {
       "metadata": {},
       "output_type": "pyout",
       "prompt_number": 7,
       "text": [
        "{'alpha': 1.0000000000000001e-05, 'n_iter': 5}"
       ]
      }
     ],
     "prompt_number": 7
    },
    {
     "cell_type": "markdown",
     "metadata": {},
     "source": [
      "Prediction accuracy of each class:"
     ]
    },
    {
     "cell_type": "code",
     "collapsed": false,
     "input": [
      "te_cm=confusion_matrix(scores_teSet, bestClf.predict(tfIdfArr_teSet))\n",
      "te_cm.diagonal()/sum(te_cm,1,dtype=float32)"
     ],
     "language": "python",
     "metadata": {},
     "outputs": [
      {
       "metadata": {},
       "output_type": "pyout",
       "prompt_number": 8,
       "text": [
        "array([ 0.80321593,  0.57422969,  0.01182894,  0.31922791,  0.87557252])"
       ]
      }
     ],
     "prompt_number": 8
    },
    {
     "cell_type": "markdown",
     "metadata": {},
     "source": [
      "Save the resulting model:"
     ]
    },
    {
     "cell_type": "code",
     "collapsed": false,
     "input": [
      "with open('/home/hencrice/Downloads/AsterixDBClassData/models/clf_{0}.pkl'.format(productCategory),'wb') as fp:\n",
      "    cPickle.dump(bestClf, fp, -1)"
     ],
     "language": "python",
     "metadata": {},
     "outputs": [],
     "prompt_number": 10
    }
   ],
   "metadata": {}
  }
 ]
}