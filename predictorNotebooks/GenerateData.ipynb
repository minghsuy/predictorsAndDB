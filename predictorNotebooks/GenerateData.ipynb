{
 "metadata": {
  "name": ""
 },
 "nbformat": 3,
 "nbformat_minor": 0,
 "worksheets": [
  {
   "cells": [
    {
     "cell_type": "code",
     "collapsed": false,
     "input": [
      "import os\n",
      "import cPickle\n",
      "from scipy.sparse import hstack as sparse_hstack\n",
      "from scipy.io import savemat\n",
      "from sklearn.feature_extraction.text import TfidfVectorizer\n",
      "from numpy.core.defchararray import add as stringVecAdd\n",
      "from SQLConnect import sqlSession"
     ],
     "language": "python",
     "metadata": {},
     "outputs": [],
     "prompt_number": 1
    },
    {
     "cell_type": "code",
     "collapsed": false,
     "input": [
      "txtFileList=[fName for fName in next(os.walk('/home/hencrice/Downloads/AmazonProductDataset_MySQL/imported'))[2] if fName.endswith('.txt')]\n",
      "with sqlSession(True) as cnxn:\n",
      "    cur=cnxn.cursor()\n",
      "    for fname in txtFileList:\n",
      "        print('fetching table {0} ......'.format(fname[:-4]))\n",
      "        cur.execute(\"\"\"select count(*) from cs277.{0} where score=1\"\"\".format(fname[:-4]))\n",
      "        score1Cnt=cur.fetchone()[0]\n",
      "        if score1Cnt>20000:\n",
      "            score1Cnt=20000\n",
      "        print(score1Cnt)\n",
      "        cur.execute(\"\"\"select score, summary, text from (\n",
      "(select cast(score as unsigned) as 'score', summary, text from cs277.{0} where score=1 limit {1})\n",
      "union all\n",
      "(select cast(score as unsigned) as 'score', summary, text from cs277.{0} where score=2 limit {1})\n",
      "union all\n",
      "(select cast(score as unsigned) as 'score', summary, text from cs277.{0} where score=3 limit {1})\n",
      "union all\n",
      "(select cast(score as unsigned) as 'score', summary, text from cs277.{0} where score=4 limit {1})\n",
      "union all\n",
      "(select cast(score as unsigned) as 'score', summary, text from cs277.{0} where score=5 limit {1})\n",
      ") as tmp\n",
      "order by rand()\n",
      "\"\"\".format(fname[:-4],score1Cnt))\n",
      "        rawDataArr=cur.fetchall()\n",
      "        rawDataArr=array(rawDataArr)\n",
      "        save('/home/hencrice/Downloads/AsterixDBClassData/rawData_{0}'.format(fname[:-4]),rawDataArr)\n",
      "        del rawDataArr"
     ],
     "language": "python",
     "metadata": {},
     "outputs": [
      {
       "output_type": "stream",
       "stream": "stdout",
       "text": [
        "connection established\n",
        "fetching table Gourmet_Foods ......\n",
        "13375\n",
        "fetching table Jewelry ......"
       ]
      },
      {
       "output_type": "stream",
       "stream": "stdout",
       "text": [
        "\n",
        "4313\n",
        "fetching table Home_Kitchen ......"
       ]
      },
      {
       "output_type": "stream",
       "stream": "stdout",
       "text": [
        "\n",
        "20000\n",
        "fetching table Shoes ......"
       ]
      },
      {
       "output_type": "stream",
       "stream": "stdout",
       "text": [
        "\n",
        "20000\n",
        "fetching table Sports_Outdoors ......"
       ]
      },
      {
       "output_type": "stream",
       "stream": "stdout",
       "text": [
        "\n",
        "20000\n",
        "fetching table Arts ......"
       ]
      },
      {
       "output_type": "stream",
       "stream": "stdout",
       "text": [
        "\n",
        "2782\n",
        "fetching table Industrial_Scientific ......"
       ]
      },
      {
       "output_type": "stream",
       "stream": "stdout",
       "text": [
        "\n",
        "8684\n",
        "fetching table Automotive ......"
       ]
      },
      {
       "output_type": "stream",
       "stream": "stdout",
       "text": [
        "\n",
        "19662\n",
        "fetching table Health ......"
       ]
      },
      {
       "output_type": "stream",
       "stream": "stdout",
       "text": [
        "\n",
        "20000\n",
        "fetching table Cell_Phones_Accessories ......"
       ]
      },
      {
       "output_type": "stream",
       "stream": "stdout",
       "text": [
        "\n",
        "14360\n",
        "fetching table Watches ......"
       ]
      },
      {
       "output_type": "stream",
       "stream": "stdout",
       "text": [
        "\n",
        "5343\n",
        "fetching table Amazon_Instant_Video ......"
       ]
      },
      {
       "output_type": "stream",
       "stream": "stdout",
       "text": [
        "\n",
        "20000\n",
        "fetching table Electronics ......"
       ]
      },
      {
       "output_type": "stream",
       "stream": "stdout",
       "text": [
        "\n",
        "20000\n",
        "fetching table Office_Products ......"
       ]
      },
      {
       "output_type": "stream",
       "stream": "stdout",
       "text": [
        "\n",
        "16658"
       ]
      },
      {
       "output_type": "stream",
       "stream": "stdout",
       "text": [
        "\n",
        "fetching table Pet_Supplies ......"
       ]
      },
      {
       "output_type": "stream",
       "stream": "stdout",
       "text": [
        "\n",
        "20000"
       ]
      },
      {
       "output_type": "stream",
       "stream": "stdout",
       "text": [
        "\n",
        "fetching table Patio ......"
       ]
      },
      {
       "output_type": "stream",
       "stream": "stdout",
       "text": [
        "\n",
        "20000\n",
        "fetching table Clothing_Accessories ......"
       ]
      },
      {
       "output_type": "stream",
       "stream": "stdout",
       "text": [
        "\n",
        "20000\n",
        "fetching table Software ......"
       ]
      },
      {
       "output_type": "stream",
       "stream": "stdout",
       "text": [
        "\n",
        "20000"
       ]
      },
      {
       "output_type": "stream",
       "stream": "stdout",
       "text": [
        "\n",
        "fetching table Tools_Home_Improvement ......"
       ]
      },
      {
       "output_type": "stream",
       "stream": "stdout",
       "text": [
        "\n",
        "20000"
       ]
      },
      {
       "output_type": "stream",
       "stream": "stdout",
       "text": [
        "\n",
        "fetching table Toys_Games ......"
       ]
      },
      {
       "output_type": "stream",
       "stream": "stdout",
       "text": [
        "\n",
        "20000"
       ]
      },
      {
       "output_type": "stream",
       "stream": "stdout",
       "text": [
        "\n",
        "fetching table Beauty ......"
       ]
      },
      {
       "output_type": "stream",
       "stream": "stdout",
       "text": [
        "\n",
        "20000"
       ]
      },
      {
       "output_type": "stream",
       "stream": "stdout",
       "text": [
        "\n",
        "fetching table Kindle_Store ......"
       ]
      },
      {
       "output_type": "stream",
       "stream": "stdout",
       "text": [
        "\n",
        "12878"
       ]
      },
      {
       "output_type": "stream",
       "stream": "stdout",
       "text": [
        "\n",
        "fetching table Musical_Instruments ......"
       ]
      },
      {
       "output_type": "stream",
       "stream": "stdout",
       "text": [
        "\n",
        "7010\n",
        "fetching table Video_Games ......"
       ]
      },
      {
       "output_type": "stream",
       "stream": "stdout",
       "text": [
        "\n",
        "20000"
       ]
      },
      {
       "output_type": "stream",
       "stream": "stdout",
       "text": [
        "\n",
        "fetching table Baby ......"
       ]
      },
      {
       "output_type": "stream",
       "stream": "stdout",
       "text": [
        "\n",
        "1869\n",
        "connection closed"
       ]
      },
      {
       "output_type": "stream",
       "stream": "stdout",
       "text": [
        "\n"
       ]
      }
     ],
     "prompt_number": 5
    },
    {
     "cell_type": "code",
     "collapsed": false,
     "input": [
      "rawDataFileList=[fName for fName in next(os.walk('/home/hencrice/Downloads/AsterixDBClassData'))[2] if fName.endswith('.npy')]\n",
      "for fName in rawDataFileList:\n",
      "    print('Processing {0} ......'.format(fName))\n",
      "    dataArr=load('/home/hencrice/Downloads/AsterixDBClassData/{0}'.format(fName))\n",
      "    scores=dataArr[:,0].astype(uint8)\n",
      "    smryArr=dataArr[:,1]\n",
      "    txtArr=dataArr[:,2]\n",
      "    vectorizer=TfidfVectorizer(min_df=9, max_df=0.7, ngram_range=(1, 3))\n",
      "    savemat('/home/hencrice/Downloads/AsterixDBClassData/processedData/TfIdf_{0}'.format(fName[8:-4]), {'data': vectorizer.fit_transform(stringVecAdd(smryArr, stringVecAdd(\" \",txtArr)))})\n",
      "    save('/home/hencrice/Downloads/AsterixDBClassData/processedData/score_{0}'.format(fName[8:-4]), scores)\n",
      "    with open('/home/hencrice/Downloads/AsterixDBClassData/models/vectorizerTfIdf_{0}.pkl'.format(fName[8:-4]),'wb') as fp:\n",
      "        cPickle.dump(vectorizer, fp, -1)"
     ],
     "language": "python",
     "metadata": {},
     "outputs": [
      {
       "output_type": "stream",
       "stream": "stdout",
       "text": [
        "Processing rawData_Home_Kitchen.npy ......\n",
        "Processing rawData_Office_Products.npy ......"
       ]
      },
      {
       "output_type": "stream",
       "stream": "stdout",
       "text": [
        "\n",
        "Processing rawData_Arts.npy ......"
       ]
      },
      {
       "output_type": "stream",
       "stream": "stdout",
       "text": [
        "\n",
        "Processing rawData_Pet_Supplies.npy ......"
       ]
      },
      {
       "output_type": "stream",
       "stream": "stdout",
       "text": [
        "\n",
        "Processing rawData_Toys_Games.npy ......"
       ]
      },
      {
       "output_type": "stream",
       "stream": "stdout",
       "text": [
        "\n",
        "Processing rawData_Beauty.npy ......"
       ]
      },
      {
       "output_type": "stream",
       "stream": "stdout",
       "text": [
        "\n",
        "Processing rawData_Gourmet_Foods.npy ......"
       ]
      },
      {
       "output_type": "stream",
       "stream": "stdout",
       "text": [
        "\n",
        "Processing rawData_Software.npy ......"
       ]
      },
      {
       "output_type": "stream",
       "stream": "stdout",
       "text": [
        "\n",
        "Processing rawData_Shoes.npy ......"
       ]
      },
      {
       "output_type": "stream",
       "stream": "stdout",
       "text": [
        "\n",
        "Processing rawData_Kindle_Store.npy ......"
       ]
      },
      {
       "output_type": "stream",
       "stream": "stdout",
       "text": [
        "\n",
        "Processing rawData_Tools_Home_Improvement.npy ......"
       ]
      },
      {
       "output_type": "stream",
       "stream": "stdout",
       "text": [
        "\n",
        "Processing rawData_Industrial_Scientific.npy ......"
       ]
      },
      {
       "output_type": "stream",
       "stream": "stdout",
       "text": [
        "\n",
        "Processing rawData_Electronics.npy ......"
       ]
      },
      {
       "output_type": "stream",
       "stream": "stdout",
       "text": [
        "\n",
        "Processing rawData_Baby.npy ......"
       ]
      },
      {
       "output_type": "stream",
       "stream": "stdout",
       "text": [
        "\n",
        "Processing rawData_Sports_Outdoors.npy ......"
       ]
      },
      {
       "output_type": "stream",
       "stream": "stdout",
       "text": [
        "\n",
        "Processing rawData_Cell_Phones_Accessories.npy ......"
       ]
      },
      {
       "output_type": "stream",
       "stream": "stdout",
       "text": [
        "\n",
        "Processing rawData_Jewelry.npy ......"
       ]
      },
      {
       "output_type": "stream",
       "stream": "stdout",
       "text": [
        "\n",
        "Processing rawData_Patio.npy ......"
       ]
      },
      {
       "output_type": "stream",
       "stream": "stdout",
       "text": [
        "\n",
        "Processing rawData_Watches.npy ......"
       ]
      },
      {
       "output_type": "stream",
       "stream": "stdout",
       "text": [
        "\n",
        "Processing rawData_Video_Games.npy ......"
       ]
      },
      {
       "output_type": "stream",
       "stream": "stdout",
       "text": [
        "\n",
        "Processing rawData_Clothing_Accessories.npy ......"
       ]
      },
      {
       "output_type": "stream",
       "stream": "stdout",
       "text": [
        "\n",
        "Processing rawData_Health.npy ......"
       ]
      },
      {
       "output_type": "stream",
       "stream": "stdout",
       "text": [
        "\n",
        "Processing rawData_Automotive.npy ......"
       ]
      },
      {
       "output_type": "stream",
       "stream": "stdout",
       "text": [
        "\n",
        "Processing rawData_Musical_Instruments.npy ......"
       ]
      },
      {
       "output_type": "stream",
       "stream": "stdout",
       "text": [
        "\n"
       ]
      }
     ],
     "prompt_number": 2
    }
   ],
   "metadata": {}
  }
 ]
}