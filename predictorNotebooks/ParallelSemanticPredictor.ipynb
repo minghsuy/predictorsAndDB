{
 "metadata": {
  "name": ""
 },
 "nbformat": 3,
 "nbformat_minor": 0,
 "worksheets": [
  {
   "cells": [
    {
     "cell_type": "code",
     "collapsed": false,
     "input": [
      "from IPython.parallel import Client\n",
      "import sys\n",
      "import json\n",
      "sys.path.append('/Users/hencrice/Dropbox/MyMacWorkspace/AsterixDB_semanticPredictor/predictors/')\n",
      "from TwitterStream import getTwitterStream\n",
      "from itertools import izip"
     ],
     "language": "python",
     "metadata": {},
     "outputs": [],
     "prompt_number": 1
    },
    {
     "cell_type": "markdown",
     "metadata": {},
     "source": [
      "On the server, the models folder should be put in the same place as the predictor. This is just for testing on my laptop.\n",
      "Load a few predictors and data transformer for testing:"
     ]
    },
    {
     "cell_type": "code",
     "collapsed": false,
     "input": [
      "import os\n",
      "modelsFolderPath='/Volumes/Data/models/'\n",
      "clfList=sorted([fName for fName in next(os.walk(modelsFolderPath))[2] if fName.endswith('.pkl') and fName[0]=='c'])\n",
      "vectorizerList=sorted([fName for fName in next(os.walk(modelsFolderPath))[2] if fName.endswith('.pkl') and fName[0]=='v'])\n",
      "clfList=clfList[:3]\n",
      "vectorizerList=vectorizerList[:3]\n",
      "print((clfList, vectorizerList))\n",
      "clfList=[load(modelsFolderPath+clfName) for clfName in clfList]\n",
      "vectorizerList=[load(modelsFolderPath+vectorizerName) for vectorizerName in vectorizerList]"
     ],
     "language": "python",
     "metadata": {},
     "outputs": [
      {
       "output_type": "stream",
       "stream": "stdout",
       "text": [
        "(['clf_Arts.pkl', 'clf_Automotive.pkl', 'clf_Baby.pkl'], ['vectorizerTfIdf_Arts.pkl', 'vectorizerTfIdf_Automotive.pkl', 'vectorizerTfIdf_Baby.pkl'])\n"
       ]
      }
     ],
     "prompt_number": 2
    },
    {
     "cell_type": "markdown",
     "metadata": {},
     "source": [
      "Gather some tweets for testing:"
     ]
    },
    {
     "cell_type": "code",
     "collapsed": false,
     "input": [
      "fakeData=[]\n",
      "with getTwitterStream([]) as stream:\n",
      "    for t in stream:\n",
      "        tweet=json.loads(t)\n",
      "        if 'created_at' in tweet and tweet['lang']=='en':\n",
      "            fakeData.append(tweet['text'])\n",
      "            if len(fakeData)%100==0:\n",
      "                print(len(fakeData))\n",
      "        if len(fakeData)>1000:\n",
      "            break"
     ],
     "language": "python",
     "metadata": {},
     "outputs": [
      {
       "output_type": "stream",
       "stream": "stdout",
       "text": [
        "100\n",
        "200"
       ]
      },
      {
       "output_type": "stream",
       "stream": "stdout",
       "text": [
        "\n",
        "300"
       ]
      },
      {
       "output_type": "stream",
       "stream": "stdout",
       "text": [
        "\n",
        "400"
       ]
      },
      {
       "output_type": "stream",
       "stream": "stdout",
       "text": [
        "\n",
        "500"
       ]
      },
      {
       "output_type": "stream",
       "stream": "stdout",
       "text": [
        "\n",
        "600"
       ]
      },
      {
       "output_type": "stream",
       "stream": "stdout",
       "text": [
        "\n",
        "700"
       ]
      },
      {
       "output_type": "stream",
       "stream": "stdout",
       "text": [
        "\n",
        "800"
       ]
      },
      {
       "output_type": "stream",
       "stream": "stdout",
       "text": [
        "\n",
        "900"
       ]
      },
      {
       "output_type": "stream",
       "stream": "stdout",
       "text": [
        "\n",
        "1000"
       ]
      },
      {
       "output_type": "stream",
       "stream": "stdout",
       "text": [
        "\n"
       ]
      }
     ],
     "prompt_number": 14
    },
    {
     "cell_type": "code",
     "collapsed": false,
     "input": [
      "vectorizerList[0].transform(fakeData)"
     ],
     "language": "python",
     "metadata": {},
     "outputs": [
      {
       "metadata": {},
       "output_type": "pyout",
       "prompt_number": 19,
       "text": [
        "<1001x25925 sparse matrix of type '<type 'numpy.float64'>'\n",
        "\twith 8808 stored elements in Compressed Sparse Row format>"
       ]
      }
     ],
     "prompt_number": 19
    },
    {
     "cell_type": "code",
     "collapsed": false,
     "input": [
      "for i in xrange(3):\n",
      "    print(clfList[i].predict(vectorizerList[i].transform(fakeData)))"
     ],
     "language": "python",
     "metadata": {},
     "outputs": [
      {
       "output_type": "stream",
       "stream": "stdout",
       "text": [
        "[2 1 5 ..., 5 1 2]\n",
        "[1 1 5 ..., 5 1 1]"
       ]
      },
      {
       "output_type": "stream",
       "stream": "stdout",
       "text": [
        "\n",
        "[1 1 2 ..., 2 2 1]"
       ]
      },
      {
       "output_type": "stream",
       "stream": "stdout",
       "text": [
        "\n"
       ]
      }
     ],
     "prompt_number": 20
    },
    {
     "cell_type": "markdown",
     "metadata": {},
     "source": [
      "http://stackoverflow.com/questions/11371009/parallel-mapping-functions-in-ipython-w-multiple-parameters"
     ]
    },
    {
     "cell_type": "code",
     "collapsed": false,
     "input": [
      "%%timeit -n10\n",
      "serial_result = map(lambda vecAndClf: vecAndClf[1].predict(vecAndClf[0].transform(fakeData)), [vecAndClf for vecAndClf in izip(vectorizerList, clfList)])\n",
      "serial_result # same as above, so treating functions (i.e. vectorizer and predictors) like data works"
     ],
     "language": "python",
     "metadata": {},
     "outputs": [
      {
       "output_type": "stream",
       "stream": "stdout",
       "text": [
        "10 loops, best of 3: 151 ms per loop\n"
       ]
      }
     ],
     "prompt_number": 42
    },
    {
     "cell_type": "code",
     "collapsed": false,
     "input": [
      "serial_result=map(lambda vecAndClf: vecAndClf[1].predict(vecAndClf[0].transform(fakeData)), [vecAndClf for vecAndClf in izip(vectorizerList, clfList)])"
     ],
     "language": "python",
     "metadata": {},
     "outputs": [],
     "prompt_number": 45
    },
    {
     "cell_type": "heading",
     "level": 2,
     "metadata": {},
     "source": [
      "Ipython cluster parallel version is too slow!"
     ]
    },
    {
     "cell_type": "code",
     "collapsed": false,
     "input": [
      "rc = Client()"
     ],
     "language": "python",
     "metadata": {},
     "outputs": [],
     "prompt_number": 25
    },
    {
     "cell_type": "code",
     "collapsed": false,
     "input": [
      "%%timeit -n10\n",
      "dview = rc[:] # select all engines\n",
      "dview.push({'fakeData':fakeData}) # because engines (i.e. slave processes don't know the variable stored in this python namespace, so has to push to them to make them aware)\n",
      "#lview = rc.load_balanced_view()\n",
      "#lview.block = True # http://ipython.org/ipython-doc/stable/api/generated/IPython.parallel.client.view.html#IPython.parallel.client.view.LoadBalancedView.map\n",
      "#lview.map(lambda vecAndClf: vecAndClf[1].predict(vecAndClf[0].transform(fakeData)), [vecAndClf for vecAndClf in izip(vectorizerList, clfList)])\n",
      "dview.map_sync(lambda vecAndClf: vecAndClf[1].predict(vecAndClf[0].transform(fakeData)), [vecAndClf for vecAndClf in izip(vectorizerList, clfList)])"
     ],
     "language": "python",
     "metadata": {},
     "outputs": []
    },
    {
     "cell_type": "heading",
     "level": 2,
     "metadata": {},
     "source": [
      "Maybe we should also try out Cython"
     ]
    },
    {
     "cell_type": "code",
     "collapsed": false,
     "input": [
      "%load_ext cythonmagic"
     ],
     "language": "python",
     "metadata": {},
     "outputs": [],
     "prompt_number": 67
    },
    {
     "cell_type": "code",
     "collapsed": false,
     "input": [
      "%%cython\n",
      "import numpy as np\n",
      "cimport numpy as np\n",
      "from cython.parallel cimport *\n",
      "def f(np.ndarray[double] x, double alpha):\n",
      "    cdef double s = 0\n",
      "    cdef double tmp\n",
      "    with nogil:\n",
      "        for i in prange(x.shape[0]):\n",
      "            # alpha is only read, so shared\n",
      "            # tmp assigned before being used -> safe and natural to make it implicitly thread-private\n",
      "            tmp = alpha * i\n",
      "            s += x[i] * tmp # turns into reduction + thread-private\n",
      "        s += tmp * 10 # after the loop we emulate sequential loop execution(OpenMP lastprivate)\n",
      "    return s"
     ],
     "language": "python",
     "metadata": {},
     "outputs": [
      {
       "output_type": "stream",
       "stream": "stderr",
       "text": [
        "\n",
        "Error compiling Cython file:\n",
        "------------------------------------------------------------\n",
        "...\n",
        "from cython.parallel cimport *\n",
        "def f(np.ndarray[double] x, double alpha):\n",
        "    cdef double s = 0\n",
        "    cdef double tmp\n",
        "    with nogil:\n",
        "        for i in prange(x.shape[0]):\n",
        "             ^\n",
        "------------------------------------------------------------\n",
        "\n",
        "/Users/hencrice/.ipython/cython/_cython_magic_f1336b02496b60bb2547a25e393af6b5.pyx:8:14: target may not be a Python object as we don't have the GIL\n",
        "\n",
        "Error compiling Cython file:\n",
        "------------------------------------------------------------\n",
        "...\n",
        "    cdef double tmp\n",
        "    with nogil:\n",
        "        for i in prange(x.shape[0]):\n",
        "            # alpha is only read, so shared\n",
        "            # tmp assigned before being used -> safe and natural to make it implicitly thread-private\n",
        "            tmp = alpha * i\n",
        "                       ^\n",
        "------------------------------------------------------------\n",
        "\n",
        "/Users/hencrice/.ipython/cython/_cython_magic_f1336b02496b60bb2547a25e393af6b5.pyx:11:24: Coercion from Python not allowed without the GIL\n",
        "\n",
        "Error compiling Cython file:\n",
        "------------------------------------------------------------\n",
        "...\n",
        "    cdef double tmp\n",
        "    with nogil:\n",
        "        for i in prange(x.shape[0]):\n",
        "            # alpha is only read, so shared\n",
        "            # tmp assigned before being used -> safe and natural to make it implicitly thread-private\n",
        "            tmp = alpha * i\n",
        "                       ^\n",
        "------------------------------------------------------------\n",
        "\n",
        "/Users/hencrice/.ipython/cython/_cython_magic_f1336b02496b60bb2547a25e393af6b5.pyx:11:24: Operation not allowed without gil\n",
        "\n",
        "Error compiling Cython file:\n",
        "------------------------------------------------------------\n",
        "...\n",
        "    cdef double tmp\n",
        "    with nogil:\n",
        "        for i in prange(x.shape[0]):\n",
        "            # alpha is only read, so shared\n",
        "            # tmp assigned before being used -> safe and natural to make it implicitly thread-private\n",
        "            tmp = alpha * i\n",
        "                       ^\n",
        "------------------------------------------------------------\n",
        "\n",
        "/Users/hencrice/.ipython/cython/_cython_magic_f1336b02496b60bb2547a25e393af6b5.pyx:11:24: Converting to Python object not allowed without gil\n",
        "\n",
        "Error compiling Cython file:\n",
        "------------------------------------------------------------\n",
        "...\n",
        "    with nogil:\n",
        "        for i in prange(x.shape[0]):\n",
        "            # alpha is only read, so shared\n",
        "            # tmp assigned before being used -> safe and natural to make it implicitly thread-private\n",
        "            tmp = alpha * i\n",
        "            s += x[i] * tmp # turns into reduction + thread-private\n",
        "             ^\n",
        "------------------------------------------------------------\n",
        "\n",
        "/Users/hencrice/.ipython/cython/_cython_magic_f1336b02496b60bb2547a25e393af6b5.pyx:12:14: Coercion from Python not allowed without the GIL\n",
        "\n",
        "Error compiling Cython file:\n",
        "------------------------------------------------------------\n",
        "...\n",
        "    with nogil:\n",
        "        for i in prange(x.shape[0]):\n",
        "            # alpha is only read, so shared\n",
        "            # tmp assigned before being used -> safe and natural to make it implicitly thread-private\n",
        "            tmp = alpha * i\n",
        "            s += x[i] * tmp # turns into reduction + thread-private\n",
        "             ^\n",
        "------------------------------------------------------------\n",
        "\n",
        "/Users/hencrice/.ipython/cython/_cython_magic_f1336b02496b60bb2547a25e393af6b5.pyx:12:14: Operation not allowed without gil\n",
        "\n",
        "Error compiling Cython file:\n",
        "------------------------------------------------------------\n",
        "...\n",
        "    with nogil:\n",
        "        for i in prange(x.shape[0]):\n",
        "            # alpha is only read, so shared\n",
        "            # tmp assigned before being used -> safe and natural to make it implicitly thread-private\n",
        "            tmp = alpha * i\n",
        "            s += x[i] * tmp # turns into reduction + thread-private\n",
        "             ^\n",
        "------------------------------------------------------------\n",
        "\n",
        "/Users/hencrice/.ipython/cython/_cython_magic_f1336b02496b60bb2547a25e393af6b5.pyx:12:14: Converting to Python object not allowed without gil\n",
        "\n",
        "Error compiling Cython file:\n",
        "------------------------------------------------------------\n",
        "...\n",
        "    with nogil:\n",
        "        for i in prange(x.shape[0]):\n",
        "            # alpha is only read, so shared\n",
        "            # tmp assigned before being used -> safe and natural to make it implicitly thread-private\n",
        "            tmp = alpha * i\n",
        "            s += x[i] * tmp # turns into reduction + thread-private\n",
        "                     ^\n",
        "------------------------------------------------------------\n",
        "\n",
        "/Users/hencrice/.ipython/cython/_cython_magic_f1336b02496b60bb2547a25e393af6b5.pyx:12:22: Operation not allowed without gil\n",
        "\n",
        "Error compiling Cython file:\n",
        "------------------------------------------------------------\n",
        "...\n",
        "    with nogil:\n",
        "        for i in prange(x.shape[0]):\n",
        "            # alpha is only read, so shared\n",
        "            # tmp assigned before being used -> safe and natural to make it implicitly thread-private\n",
        "            tmp = alpha * i\n",
        "            s += x[i] * tmp # turns into reduction + thread-private\n",
        "                 ^\n",
        "------------------------------------------------------------\n",
        "\n",
        "/Users/hencrice/.ipython/cython/_cython_magic_f1336b02496b60bb2547a25e393af6b5.pyx:12:18: Indexing Python object not allowed without gil\n",
        "\n",
        "Error compiling Cython file:\n",
        "------------------------------------------------------------\n",
        "...\n",
        "    with nogil:\n",
        "        for i in prange(x.shape[0]):\n",
        "            # alpha is only read, so shared\n",
        "            # tmp assigned before being used -> safe and natural to make it implicitly thread-private\n",
        "            tmp = alpha * i\n",
        "            s += x[i] * tmp # turns into reduction + thread-private\n",
        "                                                                  ^\n",
        "------------------------------------------------------------\n",
        "\n",
        "/Users/hencrice/.ipython/cython/_cython_magic_f1336b02496b60bb2547a25e393af6b5.pyx:12:67: Converting to Python object not allowed without gil\n"
       ]
      }
     ],
     "prompt_number": 79
    },
    {
     "cell_type": "code",
     "collapsed": false,
     "input": [
      "serial_result"
     ],
     "language": "python",
     "metadata": {},
     "outputs": [
      {
       "metadata": {},
       "output_type": "pyout",
       "prompt_number": 51,
       "text": [
        "[array([2, 1, 5, ..., 5, 1, 2], dtype=uint8),\n",
        " array([1, 1, 5, ..., 5, 1, 1], dtype=uint8),\n",
        " array([1, 1, 2, ..., 2, 2, 1], dtype=uint8)]"
       ]
      }
     ],
     "prompt_number": 51
    },
    {
     "cell_type": "code",
     "collapsed": false,
     "input": [
      "results[0]"
     ],
     "language": "python",
     "metadata": {},
     "outputs": [
      {
       "metadata": {},
       "output_type": "pyout",
       "prompt_number": 57,
       "text": [
        "1"
       ]
      }
     ],
     "prompt_number": 57
    }
   ],
   "metadata": {}
  }
 ]
}