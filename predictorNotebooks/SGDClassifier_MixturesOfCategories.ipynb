{
 "metadata": {
  "name": ""
 },
 "nbformat": 3,
 "nbformat_minor": 0,
 "worksheets": [
  {
   "cells": [
    {
     "cell_type": "code",
     "collapsed": false,
     "input": [
      "import cPickle\n",
      "import os\n",
      "from itertools import izip\n",
      "from scipy.io import loadmat, savemat\n",
      "from sklearn.linear_model import SGDClassifier\n",
      "from numpy.core.defchararray import add as stringVecAdd\n",
      "from sklearn.feature_extraction.text import TfidfVectorizer\n",
      "from sklearn.cross_validation import train_test_split\n",
      "from sklearn.metrics import confusion_matrix\n",
      "from sklearn.grid_search import GridSearchCV"
     ],
     "language": "python",
     "metadata": {},
     "outputs": [],
     "prompt_number": 24
    },
    {
     "cell_type": "markdown",
     "metadata": {},
     "source": [
      "Load and concatenate raw data for every 8 product categories, the ratio of score-3 reviews v.s. non score-3 reviews is 1:3, then store these mixtures of raw data from different categories=>"
     ]
    },
    {
     "cell_type": "code",
     "collapsed": false,
     "input": [
      "txtFileList=[fName for fName in next(os.walk('/home/hencrice/Downloads/AsterixDBClassData'))[2] if fName.endswith('.npy')]\n",
      "\n",
      "numOfCategoriesInAMixture=8\n",
      "assert len(txtFileList)%numOfCategoriesInAMixture==0, \"Can't divide {0} by {1}\".format(len(txtFileList), numOfCategoriesInAMixture)\n",
      "\n",
      "for s,e in izip(range(0, len(txtFileList), numOfCategoriesInAMixture), range(numOfCategoriesInAMixture, len(txtFileList)+1, numOfCategoriesInAMixture)):\n",
      "    print((s, e))\n",
      "    fileNameL=[]\n",
      "    for fname in txtFileList[s:e]:\n",
      "        print('Loading table {0} ......'.format(fname[8:-4]))\n",
      "        fileNameL.append(fname[8:-4])\n",
      "        if s%numOfCategoriesInAMixture==0:\n",
      "            rawDataArr=load('/home/hencrice/Downloads/AsterixDBClassData/{0}'.format(fname))\n",
      "            rawDataArr=stringVecAdd(rawDataArr[:,1], stringVecAdd(\" \", rawDataArr[:,2]))\n",
      "            scores=load('/home/hencrice/Downloads/AsterixDBClassData/processedData/score_{0}'.format(fname[8:]))\n",
      "            score3Cnt=sum(scores==3)\n",
      "            score3Cnt=2000 if score3Cnt>2000 else score3Cnt\n",
      "            rawDataArr=hstack((rawDataArr[scores==3][:score3Cnt], rawDataArr[scores!=3][:score3Cnt*3]))\n",
      "            targets=hstack((scores[scores==3][:score3Cnt], scores[scores!=3][:score3Cnt*3]))\n",
      "        else:\n",
      "            tempArr=load('/home/hencrice/Downloads/AsterixDBClassData/{0}'.format(fname))\n",
      "            tempArr=stringVecAdd(tempArr[:,1], stringVecAdd(\" \", tempArr[:,2]))\n",
      "            scores=load('/home/hencrice/Downloads/AsterixDBClassData/processedData/score_{0}'.format(fname[8:]))\n",
      "            score3Cnt=sum(scores==3)\n",
      "            score3Cnt=2000 if score3Cnt>2000 else score3Cnt\n",
      "            rawDataArr=hstack((rawDataArr, tempArr[scores==3][:score3Cnt], tempArr[scores!=3][:score3Cnt*3]))\n",
      "            targets=hstack((targets, scores[scores==3][:score3Cnt], scores[scores!=3][:score3Cnt*3]))\n",
      "            del tempArr, scores\n",
      "        if fname==txtFileList[e-1]:\n",
      "            save('/home/hencrice/Downloads/AsterixDBClassData/mixtures/rawData_mixtureOf_{0}'.format('_'.join(fileNameL)), rawDataArr)\n",
      "            save('/home/hencrice/Downloads/AsterixDBClassData/mixtures/scores_mixtureOf_{0}'.format('_'.join(fileNameL)), targets)\n",
      "            print('data shape: {0}'.format((rawDataArr.shape, targets.shape)))\n",
      "            del rawDataArr, scores\n",
      "            fileNameL[:]=[]"
     ],
     "language": "python",
     "metadata": {},
     "outputs": [
      {
       "output_type": "stream",
       "stream": "stdout",
       "text": [
        "(0, 8)\n",
        "Loading table Home_Kitchen ......\n",
        "Loading table Office_Products ......"
       ]
      },
      {
       "output_type": "stream",
       "stream": "stdout",
       "text": [
        "\n",
        "Loading table Arts ......"
       ]
      },
      {
       "output_type": "stream",
       "stream": "stdout",
       "text": [
        "\n",
        "Loading table Pet_Supplies ......"
       ]
      },
      {
       "output_type": "stream",
       "stream": "stdout",
       "text": [
        "\n",
        "Loading table Toys_Games ......"
       ]
      },
      {
       "output_type": "stream",
       "stream": "stdout",
       "text": [
        "\n",
        "Loading table Beauty ......"
       ]
      },
      {
       "output_type": "stream",
       "stream": "stdout",
       "text": [
        "\n",
        "Loading table Gourmet_Foods ......"
       ]
      },
      {
       "output_type": "stream",
       "stream": "stdout",
       "text": [
        "\n",
        "Loading table Software ......"
       ]
      },
      {
       "output_type": "stream",
       "stream": "stdout",
       "text": [
        "\n",
        "data shape: ((8000,), (8000,))"
       ]
      },
      {
       "output_type": "stream",
       "stream": "stdout",
       "text": [
        "\n",
        "(8, 16)"
       ]
      },
      {
       "output_type": "stream",
       "stream": "stdout",
       "text": [
        "\n",
        "Loading table Shoes ......\n",
        "Loading table Kindle_Store ......"
       ]
      },
      {
       "output_type": "stream",
       "stream": "stdout",
       "text": [
        "\n",
        "Loading table Tools_Home_Improvement ......"
       ]
      },
      {
       "output_type": "stream",
       "stream": "stdout",
       "text": [
        "\n",
        "Loading table Industrial_Scientific ......"
       ]
      },
      {
       "output_type": "stream",
       "stream": "stdout",
       "text": [
        "\n",
        "Loading table Electronics ......"
       ]
      },
      {
       "output_type": "stream",
       "stream": "stdout",
       "text": [
        "\n",
        "Loading table Baby ......"
       ]
      },
      {
       "output_type": "stream",
       "stream": "stdout",
       "text": [
        "\n",
        "Loading table Sports_Outdoors ......"
       ]
      },
      {
       "output_type": "stream",
       "stream": "stdout",
       "text": [
        "\n",
        "Loading table Cell_Phones_Accessories ......"
       ]
      },
      {
       "output_type": "stream",
       "stream": "stdout",
       "text": [
        "\n",
        "data shape: ((8000,), (8000,))"
       ]
      },
      {
       "output_type": "stream",
       "stream": "stdout",
       "text": [
        "\n",
        "(16, 24)\n",
        "Loading table Jewelry ......\n",
        "Loading table Patio ......"
       ]
      },
      {
       "output_type": "stream",
       "stream": "stdout",
       "text": [
        "\n",
        "Loading table Watches ......"
       ]
      },
      {
       "output_type": "stream",
       "stream": "stdout",
       "text": [
        "\n",
        "Loading table Video_Games ......"
       ]
      },
      {
       "output_type": "stream",
       "stream": "stdout",
       "text": [
        "\n",
        "Loading table Clothing_Accessories ......"
       ]
      },
      {
       "output_type": "stream",
       "stream": "stdout",
       "text": [
        "\n",
        "Loading table Health ......"
       ]
      },
      {
       "output_type": "stream",
       "stream": "stdout",
       "text": [
        "\n",
        "Loading table Automotive ......"
       ]
      },
      {
       "output_type": "stream",
       "stream": "stdout",
       "text": [
        "\n",
        "Loading table Musical_Instruments ......"
       ]
      },
      {
       "output_type": "stream",
       "stream": "stdout",
       "text": [
        "\n",
        "data shape: ((8000,), (8000,))"
       ]
      },
      {
       "output_type": "stream",
       "stream": "stdout",
       "text": [
        "\n"
       ]
      }
     ],
     "prompt_number": 34
    },
    {
     "cell_type": "markdown",
     "metadata": {},
     "source": [
      "Transform raw data mixture into tf-idf format and save the vectorizer that is used to produce the results:"
     ]
    },
    {
     "cell_type": "code",
     "collapsed": false,
     "input": [
      "fileList=[fName[18:] for fName in next(os.walk('/home/hencrice/Downloads/AsterixDBClassData/mixtures/'))[2] if fName.endswith('.npy') and fName[0]=='r']\n",
      "for fName in fileList:\n",
      "    rawData=load('/home/hencrice/Downloads/AsterixDBClassData/mixtures/rawData_mixtureOf_{0}'.format(fName))\n",
      "    vectorizer=TfidfVectorizer(min_df=9, max_df=0.7, ngram_range=(1, 3))    \n",
      "    savemat('/home/hencrice/Downloads/AsterixDBClassData/mixtures/TfIdf_{0}'.format(fName[:-4]), {'data': vectorizer.fit_transform(rawData)})\n",
      "    with open('/home/hencrice/Downloads/AsterixDBClassData/models/vectorizerTfIdf_{0}.pkl'.format(fName[:-4]),'wb') as fp:\n",
      "        cPickle.dump(vectorizer, fp, -1)"
     ],
     "language": "python",
     "metadata": {},
     "outputs": [],
     "prompt_number": 17
    },
    {
     "cell_type": "markdown",
     "metadata": {},
     "source": [
      "Split data into training+validation (used gridSearch to pick hyper-parameters), and test set (evaluate model performance)"
     ]
    },
    {
     "cell_type": "code",
     "collapsed": false,
     "input": [
      "productCategory='Home_Kitchen_Office_Products_Arts_Pet_Supplies_Toys_Games_Beauty_Gourmet_Foods_Software'\n",
      "tfIdfArr=loadmat('/home/hencrice/Downloads/AsterixDBClassData/mixtures/TfIdf_{0}.mat'.format(productCategory))['data']\n",
      "scores=load('/home/hencrice/Downloads/AsterixDBClassData/mixtures/scores_mixtureOf_{0}.npy'.format(productCategory))"
     ],
     "language": "python",
     "metadata": {},
     "outputs": [],
     "prompt_number": 20
    },
    {
     "cell_type": "code",
     "collapsed": false,
     "input": [
      "tfIdfArr_trVaSet, tfIdfArr_teSet, scores_trVaSet, scores_teSet = train_test_split(tfIdfArr, scores, test_size=0.1)\n",
      "hist(scores_teSet)"
     ],
     "language": "python",
     "metadata": {},
     "outputs": [
      {
       "metadata": {},
       "output_type": "pyout",
       "prompt_number": 67,
       "text": [
        "(array([ 169.,    0.,   62.,    0.,    0.,  221.,    0.,  146.,    0.,  202.]),\n",
        " array([ 1. ,  1.4,  1.8,  2.2,  2.6,  3. ,  3.4,  3.8,  4.2,  4.6,  5. ]),\n",
        " <a list of 10 Patch objects>)"
       ]
      },
      {
       "metadata": {},
       "output_type": "display_data",
       "png": "[encoded data removed]",
       "text": [
        "<matplotlib.figure.Figure at 0xe936bd0>"
       ]
      }
     ],
     "prompt_number": 67
    },
    {
     "cell_type": "markdown",
     "metadata": {},
     "source": [
      "Pick hyper-parameters for SGDClassifier using grid search:"
     ]
    },
    {
     "cell_type": "code",
     "collapsed": false,
     "input": [
      "hyperParam={'n_iter':range(5, 20, 5),\n",
      "            # strength of regularization\n",
      "            'alpha': logspace(-5, -3, 10)\n",
      "            }\n",
      "clf = GridSearchCV(SGDClassifier(loss='log', class_weight={1:0.2, 2:0.2, 3:0.8, 4:0.1, 5:0.25}), hyperParam, n_jobs=8, verbose=1)\n",
      "clf.fit(tfIdfArr_trVaSet, scores_trVaSet)\n",
      "bestClf=clf.best_estimator_\n",
      "clf.best_params_"
     ],
     "language": "python",
     "metadata": {},
     "outputs": [
      {
       "output_type": "stream",
       "stream": "stdout",
       "text": [
        "Fitting 3 folds for each of 30 candidates, totalling 90 fits\n"
       ]
      },
      {
       "output_type": "stream",
       "stream": "stderr",
       "text": [
        "[Parallel(n_jobs=8)]: Done   1 jobs       | elapsed:    0.3s\n",
        "[Parallel(n_jobs=8)]: Done  50 jobs       | elapsed:    5.5s\n",
        "[Parallel(n_jobs=8)]: Done  76 out of  90 | elapsed:    8.0s remaining:    1.5s\n",
        "[Parallel(n_jobs=8)]: Done  90 out of  90 | elapsed:    9.4s finished\n"
       ]
      },
      {
       "metadata": {},
       "output_type": "pyout",
       "prompt_number": 63,
       "text": [
        "{'alpha': 1.0000000000000001e-05, 'n_iter': 15}"
       ]
      }
     ],
     "prompt_number": 63
    },
    {
     "cell_type": "markdown",
     "metadata": {},
     "source": [
      "Prediction accuracy of each class:"
     ]
    },
    {
     "cell_type": "code",
     "collapsed": false,
     "input": [
      "te_cm=confusion_matrix(scores_teSet, bestClf.predict(tfIdfArr_teSet))\n",
      "te_cm.diagonal()/sum(te_cm,1,dtype=float32)"
     ],
     "language": "python",
     "metadata": {},
     "outputs": [
      {
       "metadata": {},
       "output_type": "pyout",
       "prompt_number": 64,
       "text": [
        "array([ 0.67553191,  0.        ,  0.79104478,  0.04516129,  0.77486911])"
       ]
      }
     ],
     "prompt_number": 64
    },
    {
     "cell_type": "markdown",
     "metadata": {},
     "source": [
      "Save the resulting model:"
     ]
    },
    {
     "cell_type": "code",
     "collapsed": false,
     "input": [
      "with open('/home/hencrice/Downloads/AsterixDBClassData/models/clf_mixtureOf_{0}.pkl'.format(productCategory),'wb') as fp:\n",
      "    cPickle.dump(bestClf, fp, -1)"
     ],
     "language": "python",
     "metadata": {},
     "outputs": [],
     "prompt_number": 66
    },
    {
     "cell_type": "heading",
     "level": 2,
     "metadata": {},
     "source": [
      "Train another mixture:"
     ]
    },
    {
     "cell_type": "code",
     "collapsed": false,
     "input": [
      "productCategory='Jewelry_Patio_Watches_Video_Games_Clothing_Accessories_Health_Automotive_Musical_Instruments'\n",
      "tfIdfArr=loadmat('/home/hencrice/Downloads/AsterixDBClassData/mixtures/TfIdf_{0}.mat'.format(productCategory))['data']\n",
      "scores=load('/home/hencrice/Downloads/AsterixDBClassData/mixtures/scores_mixtureOf_{0}.npy'.format(productCategory))"
     ],
     "language": "python",
     "metadata": {},
     "outputs": [],
     "prompt_number": 68
    },
    {
     "cell_type": "code",
     "collapsed": false,
     "input": [
      "tfIdfArr_trVaSet, tfIdfArr_teSet, scores_trVaSet, scores_teSet = train_test_split(tfIdfArr, scores, test_size=0.1)\n",
      "hist(scores_teSet)"
     ],
     "language": "python",
     "metadata": {},
     "outputs": [
      {
       "metadata": {},
       "output_type": "pyout",
       "prompt_number": 69,
       "text": [
        "(array([ 172.,    0.,   91.,    0.,    0.,  188.,    0.,  181.,    0.,  168.]),\n",
        " array([ 1. ,  1.4,  1.8,  2.2,  2.6,  3. ,  3.4,  3.8,  4.2,  4.6,  5. ]),\n",
        " <a list of 10 Patch objects>)"
       ]
      },
      {
       "metadata": {},
       "output_type": "display_data",
       "png": "[encoded data removed]",
       "text": [
        "<matplotlib.figure.Figure at 0x7f0a06e5cb50>"
       ]
      }
     ],
     "prompt_number": 69
    },
    {
     "cell_type": "markdown",
     "metadata": {},
     "source": [
      "Pick hyper-parameters for SGDClassifier using grid search:"
     ]
    },
    {
     "cell_type": "code",
     "collapsed": false,
     "input": [
      "hyperParam={'n_iter':range(5, 20, 5),\n",
      "            # strength of regularization\n",
      "            'alpha': logspace(-5, -3, 10)\n",
      "            }\n",
      "clf = GridSearchCV(SGDClassifier(loss='log', class_weight={1:0.2, 2:0.2, 3:0.65, 4:0.1, 5:0.25}), hyperParam, n_jobs=8, verbose=1)\n",
      "clf.fit(tfIdfArr_trVaSet, scores_trVaSet)\n",
      "bestClf=clf.best_estimator_\n",
      "clf.best_params_"
     ],
     "language": "python",
     "metadata": {},
     "outputs": [
      {
       "output_type": "stream",
       "stream": "stdout",
       "text": [
        "Fitting 3 folds for each of 30 candidates, totalling 90 fits\n"
       ]
      },
      {
       "output_type": "stream",
       "stream": "stderr",
       "text": [
        "[Parallel(n_jobs=8)]: Done   1 jobs       | elapsed:    0.2s\n",
        "[Parallel(n_jobs=8)]: Done  50 jobs       | elapsed:    4.5s\n",
        "[Parallel(n_jobs=8)]: Done  76 out of  90 | elapsed:    6.7s remaining:    1.2s\n",
        "[Parallel(n_jobs=8)]: Done  90 out of  90 | elapsed:    7.6s finished\n"
       ]
      },
      {
       "metadata": {},
       "output_type": "pyout",
       "prompt_number": 74,
       "text": [
        "{'alpha': 1.0000000000000001e-05, 'n_iter': 15}"
       ]
      }
     ],
     "prompt_number": 74
    },
    {
     "cell_type": "markdown",
     "metadata": {},
     "source": [
      "Prediction accuracy of each class:"
     ]
    },
    {
     "cell_type": "code",
     "collapsed": false,
     "input": [
      "te_cm=confusion_matrix(scores_teSet, bestClf.predict(tfIdfArr_teSet))\n",
      "te_cm.diagonal()/sum(te_cm,1,dtype=float32)"
     ],
     "language": "python",
     "metadata": {},
     "outputs": [
      {
       "metadata": {},
       "output_type": "pyout",
       "prompt_number": 76,
       "text": [
        "array([ 0.73255814,  0.05494505,  0.84574468,  0.15469613,  0.75595238])"
       ]
      }
     ],
     "prompt_number": 76
    },
    {
     "cell_type": "markdown",
     "metadata": {},
     "source": [
      "Save the resulting model:"
     ]
    },
    {
     "cell_type": "code",
     "collapsed": false,
     "input": [
      "with open('/home/hencrice/Downloads/AsterixDBClassData/models/clf_mixtureOf_{0}.pkl'.format(productCategory),'wb') as fp:\n",
      "    cPickle.dump(bestClf, fp, -1)"
     ],
     "language": "python",
     "metadata": {},
     "outputs": [],
     "prompt_number": 77
    },
    {
     "cell_type": "heading",
     "level": 2,
     "metadata": {},
     "source": [
      "Train the final mixture:"
     ]
    },
    {
     "cell_type": "code",
     "collapsed": false,
     "input": [
      "productCategory='Shoes_Kindle_Store_Tools_Home_Improvement_Industrial_Scientific_Electronics_Baby_Sports_Outdoors_Cell_Phones_Accessories'\n",
      "tfIdfArr=loadmat('/home/hencrice/Downloads/AsterixDBClassData/mixtures/TfIdf_{0}.mat'.format(productCategory))['data']\n",
      "scores=load('/home/hencrice/Downloads/AsterixDBClassData/mixtures/scores_mixtureOf_{0}.npy'.format(productCategory))"
     ],
     "language": "python",
     "metadata": {},
     "outputs": [],
     "prompt_number": 78
    },
    {
     "cell_type": "code",
     "collapsed": false,
     "input": [
      "tfIdfArr_trVaSet, tfIdfArr_teSet, scores_trVaSet, scores_teSet = train_test_split(tfIdfArr, scores, test_size=0.1)\n",
      "hist(scores_teSet)"
     ],
     "language": "python",
     "metadata": {},
     "outputs": [
      {
       "metadata": {},
       "output_type": "pyout",
       "prompt_number": 79,
       "text": [
        "(array([ 171.,    0.,   79.,    0.,    0.,  196.,    0.,  178.,    0.,  176.]),\n",
        " array([ 1. ,  1.4,  1.8,  2.2,  2.6,  3. ,  3.4,  3.8,  4.2,  4.6,  5. ]),\n",
        " <a list of 10 Patch objects>)"
       ]
      },
      {
       "metadata": {},
       "output_type": "display_data",
       "png": "[encoded data removed]",
       "text": [
        "<matplotlib.figure.Figure at 0x6d69e90>"
       ]
      }
     ],
     "prompt_number": 79
    },
    {
     "cell_type": "markdown",
     "metadata": {},
     "source": [
      "Pick hyper-parameters for SGDClassifier using grid search:"
     ]
    },
    {
     "cell_type": "code",
     "collapsed": false,
     "input": [
      "hyperParam={'n_iter':range(5, 20, 5),\n",
      "            # strength of regularization\n",
      "            'alpha': logspace(-5, -3, 10)\n",
      "            }\n",
      "clf = GridSearchCV(SGDClassifier(loss='log', class_weight={1:0.2, 2:0.2, 3:0.8, 4:0.1, 5:0.25}), hyperParam, n_jobs=8, verbose=1)\n",
      "clf.fit(tfIdfArr_trVaSet, scores_trVaSet)\n",
      "bestClf=clf.best_estimator_\n",
      "clf.best_params_"
     ],
     "language": "python",
     "metadata": {},
     "outputs": [
      {
       "output_type": "stream",
       "stream": "stdout",
       "text": [
        "Fitting 3 folds for each of 30 candidates, totalling 90 fits\n"
       ]
      },
      {
       "output_type": "stream",
       "stream": "stderr",
       "text": [
        "[Parallel(n_jobs=8)]: Done   1 jobs       | elapsed:    0.4s\n",
        "[Parallel(n_jobs=8)]: Done  50 jobs       | elapsed:    5.0s\n",
        "[Parallel(n_jobs=8)]: Done  76 out of  90 | elapsed:    7.1s remaining:    1.3s\n",
        "[Parallel(n_jobs=8)]: Done  90 out of  90 | elapsed:    8.2s finished\n"
       ]
      },
      {
       "metadata": {},
       "output_type": "pyout",
       "prompt_number": 84,
       "text": [
        "{'alpha': 1.0000000000000001e-05, 'n_iter': 15}"
       ]
      }
     ],
     "prompt_number": 84
    },
    {
     "cell_type": "markdown",
     "metadata": {},
     "source": [
      "Prediction accuracy of each class:"
     ]
    },
    {
     "cell_type": "code",
     "collapsed": false,
     "input": [
      "te_cm=confusion_matrix(scores_teSet, bestClf.predict(tfIdfArr_teSet))\n",
      "te_cm.diagonal()/sum(te_cm,1,dtype=float32)"
     ],
     "language": "python",
     "metadata": {},
     "outputs": [
      {
       "metadata": {},
       "output_type": "pyout",
       "prompt_number": 85,
       "text": [
        "array([ 0.64912281,  0.03797468,  0.78571429,  0.12359551,  0.71022727])"
       ]
      }
     ],
     "prompt_number": 85
    },
    {
     "cell_type": "markdown",
     "metadata": {},
     "source": [
      "Save the resulting model:"
     ]
    },
    {
     "cell_type": "code",
     "collapsed": false,
     "input": [
      "with open('/home/hencrice/Downloads/AsterixDBClassData/models/clf_mixtureOf_{0}.pkl'.format(productCategory),'wb') as fp:\n",
      "    cPickle.dump(bestClf, fp, -1)"
     ],
     "language": "python",
     "metadata": {},
     "outputs": [],
     "prompt_number": 86
    }
   ],
   "metadata": {}
  }
 ]
}